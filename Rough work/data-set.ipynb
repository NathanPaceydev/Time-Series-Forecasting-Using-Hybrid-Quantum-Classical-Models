{
 "cells": [
  {
   "cell_type": "markdown",
   "id": "a1923a32",
   "metadata": {},
   "source": [
    "## 1. Data Import and Exploration\n",
    "\n",
    "In this section, we import stock price data using the `yfinance` library. We will fetch historical price data for a selected company (e.g., AAPL – Apple Inc.) and explore its structure. This includes examining columns, checking for missing values, and understanding the temporal resolution of the data.\n"
   ]
  },
  {
   "cell_type": "code",
   "execution_count": 1,
   "id": "4c0707a3",
   "metadata": {
    "vscode": {
     "languageId": "shellscript"
    }
   },
   "outputs": [],
   "source": [
    "# Install yfinance if not already installed\n",
    "#!pip install yfinance "
   ]
  },
  {
   "cell_type": "code",
   "execution_count": 2,
   "id": "fa757b46",
   "metadata": {},
   "outputs": [],
   "source": [
    "import yfinance as yf\n",
    "import pandas as pd\n",
    "import matplotlib.pyplot as plt\n",
    "from sklearn.preprocessing import MinMaxScaler\n",
    "import numpy as np"
   ]
  },
  {
   "cell_type": "code",
   "execution_count": 3,
   "id": "1fe603dd",
   "metadata": {},
   "outputs": [
    {
     "name": "stdout",
     "output_type": "stream",
     "text": [
      "YF.download() has changed argument auto_adjust default to True\n"
     ]
    },
    {
     "name": "stderr",
     "output_type": "stream",
     "text": [
      "[*********************100%***********************]  1 of 1 completed\n"
     ]
    },
    {
     "data": {
      "text/html": [
       "<div>\n",
       "<style scoped>\n",
       "    .dataframe tbody tr th:only-of-type {\n",
       "        vertical-align: middle;\n",
       "    }\n",
       "\n",
       "    .dataframe tbody tr th {\n",
       "        vertical-align: top;\n",
       "    }\n",
       "\n",
       "    .dataframe thead tr th {\n",
       "        text-align: left;\n",
       "    }\n",
       "\n",
       "    .dataframe thead tr:last-of-type th {\n",
       "        text-align: right;\n",
       "    }\n",
       "</style>\n",
       "<table border=\"1\" class=\"dataframe\">\n",
       "  <thead>\n",
       "    <tr>\n",
       "      <th>Price</th>\n",
       "      <th>Close</th>\n",
       "      <th>High</th>\n",
       "      <th>Low</th>\n",
       "      <th>Open</th>\n",
       "      <th>Volume</th>\n",
       "    </tr>\n",
       "    <tr>\n",
       "      <th>Ticker</th>\n",
       "      <th>AAPL</th>\n",
       "      <th>AAPL</th>\n",
       "      <th>AAPL</th>\n",
       "      <th>AAPL</th>\n",
       "      <th>AAPL</th>\n",
       "    </tr>\n",
       "    <tr>\n",
       "      <th>Date</th>\n",
       "      <th></th>\n",
       "      <th></th>\n",
       "      <th></th>\n",
       "      <th></th>\n",
       "      <th></th>\n",
       "    </tr>\n",
       "  </thead>\n",
       "  <tbody>\n",
       "    <tr>\n",
       "      <th>2015-01-02</th>\n",
       "      <td>24.320435</td>\n",
       "      <td>24.789804</td>\n",
       "      <td>23.879983</td>\n",
       "      <td>24.778681</td>\n",
       "      <td>212818400</td>\n",
       "    </tr>\n",
       "    <tr>\n",
       "      <th>2015-01-05</th>\n",
       "      <td>23.635284</td>\n",
       "      <td>24.169164</td>\n",
       "      <td>23.448427</td>\n",
       "      <td>24.089082</td>\n",
       "      <td>257142000</td>\n",
       "    </tr>\n",
       "    <tr>\n",
       "      <th>2015-01-06</th>\n",
       "      <td>23.637510</td>\n",
       "      <td>23.897776</td>\n",
       "      <td>23.274916</td>\n",
       "      <td>23.699796</td>\n",
       "      <td>263188400</td>\n",
       "    </tr>\n",
       "    <tr>\n",
       "      <th>2015-01-07</th>\n",
       "      <td>23.968954</td>\n",
       "      <td>24.069056</td>\n",
       "      <td>23.735381</td>\n",
       "      <td>23.846606</td>\n",
       "      <td>160423600</td>\n",
       "    </tr>\n",
       "    <tr>\n",
       "      <th>2015-01-08</th>\n",
       "      <td>24.889908</td>\n",
       "      <td>24.947745</td>\n",
       "      <td>24.180292</td>\n",
       "      <td>24.298192</td>\n",
       "      <td>237458000</td>\n",
       "    </tr>\n",
       "  </tbody>\n",
       "</table>\n",
       "</div>"
      ],
      "text/plain": [
       "Price           Close       High        Low       Open     Volume\n",
       "Ticker           AAPL       AAPL       AAPL       AAPL       AAPL\n",
       "Date                                                             \n",
       "2015-01-02  24.320435  24.789804  23.879983  24.778681  212818400\n",
       "2015-01-05  23.635284  24.169164  23.448427  24.089082  257142000\n",
       "2015-01-06  23.637510  23.897776  23.274916  23.699796  263188400\n",
       "2015-01-07  23.968954  24.069056  23.735381  23.846606  160423600\n",
       "2015-01-08  24.889908  24.947745  24.180292  24.298192  237458000"
      ]
     },
     "execution_count": 3,
     "metadata": {},
     "output_type": "execute_result"
    }
   ],
   "source": [
    "\n",
    "\n",
    "\n",
    "# Download historical stock data (Apple Inc. as example)\n",
    "ticker = \"AAPL\"\n",
    "data = yf.download(ticker, start=\"2015-01-01\", end=\"2024-12-31\", interval=\"1d\")\n",
    "\n",
    "# Display the first few rows of the dataset\n",
    "data.head()"
   ]
  },
  {
   "cell_type": "markdown",
   "id": "c6f8685e",
   "metadata": {},
   "source": [
    "### Dataset Description\n",
    "\n",
    "The dataset includes the following columns:\n",
    "\n",
    "- **Open**: Opening price of the stock on the trading day\n",
    "- **High**: Highest price during the day\n",
    "- **Low**: Lowest price during the day\n",
    "- **Close**: Closing price on the trading day\n",
    "- **Adj Close**: Adjusted closing price (adjusted for splits/dividends)\n",
    "- **Volume**: Number of shares traded\n",
    "\n",
    "We use the datetime index to work with time-based operations later in the pipeline.\n"
   ]
  },
  {
   "cell_type": "code",
   "execution_count": 4,
   "id": "1f88a0e7",
   "metadata": {},
   "outputs": [
    {
     "name": "stdout",
     "output_type": "stream",
     "text": [
      "<class 'pandas.core.frame.DataFrame'>\n",
      "DatetimeIndex: 2515 entries, 2015-01-02 to 2024-12-30\n",
      "Data columns (total 5 columns):\n",
      " #   Column          Non-Null Count  Dtype  \n",
      "---  ------          --------------  -----  \n",
      " 0   (Close, AAPL)   2515 non-null   float64\n",
      " 1   (High, AAPL)    2515 non-null   float64\n",
      " 2   (Low, AAPL)     2515 non-null   float64\n",
      " 3   (Open, AAPL)    2515 non-null   float64\n",
      " 4   (Volume, AAPL)  2515 non-null   int64  \n",
      "dtypes: float64(4), int64(1)\n",
      "memory usage: 117.9 KB\n"
     ]
    }
   ],
   "source": [
    "# Basic information about the dataset\n",
    "data.info()\n"
   ]
  },
  {
   "cell_type": "code",
   "execution_count": 5,
   "id": "ee977092",
   "metadata": {},
   "outputs": [
    {
     "data": {
      "text/plain": [
       "Price   Ticker\n",
       "Close   AAPL      0\n",
       "High    AAPL      0\n",
       "Low     AAPL      0\n",
       "Open    AAPL      0\n",
       "Volume  AAPL      0\n",
       "dtype: int64"
      ]
     },
     "execution_count": 5,
     "metadata": {},
     "output_type": "execute_result"
    }
   ],
   "source": [
    "# Check for missing values\n",
    "data.isnull().sum()\n"
   ]
  },
  {
   "cell_type": "markdown",
   "id": "c80303eb",
   "metadata": {},
   "source": [
    "### Notes\n",
    "\n",
    "- Ensure there are no significant gaps or missing values in the dataset.\n",
    "- We'll use the \"Adj Close\" column as the primary signal for forecasting.\n",
    "- Further preprocessing will include normalization, sequence generation, and train-test split.\n"
   ]
  },
  {
   "cell_type": "markdown",
   "id": "1feb7b68",
   "metadata": {},
   "source": [
    "## 2. Preprocessing\n",
    "\n",
    "In this section, we clean and prepare the stock data for modeling. We will:\n",
    "\n",
    "- Handle missing values\n",
    "- Visualize the time series\n",
    "- Normalize the data\n",
    "- Apply windowing to create supervised learning sequences\n",
    "- Split the dataset into training and test sets\n"
   ]
  },
  {
   "cell_type": "code",
   "execution_count": 7,
   "id": "7867d51b",
   "metadata": {},
   "outputs": [
    {
     "name": "stdout",
     "output_type": "stream",
     "text": [
      "MultiIndex([( 'Close', 'AAPL'),\n",
      "            (  'High', 'AAPL'),\n",
      "            (   'Low', 'AAPL'),\n",
      "            (  'Open', 'AAPL'),\n",
      "            ('Volume', 'AAPL')],\n",
      "           names=['Price', 'Ticker'])\n"
     ]
    }
   ],
   "source": [
    "# Check the actual column names\n",
    "print(data.columns)\n"
   ]
  },
  {
   "cell_type": "code",
   "execution_count": 8,
   "id": "c6d97490",
   "metadata": {},
   "outputs": [],
   "source": [
    "# Flatten MultiIndex columns\n",
    "data.columns = data.columns.get_level_values(0)\n",
    "\n",
    "# Use 'Close' as the main signal\n",
    "data = data[['Close']].copy()\n",
    "data.rename(columns={'Close': 'price'}, inplace=True)\n",
    "\n",
    "# Forward-fill missing data (e.g., for non-trading days)\n",
    "data.ffill(inplace=True)\n"
   ]
  },
  {
   "cell_type": "markdown",
   "id": "2fed5ae4",
   "metadata": {},
   "source": [
    "### 2.1 Visualize the Adjusted Closing Price\n",
    "\n",
    "We plot the time series to inspect trends and seasonality before further transformation.\n"
   ]
  },
  {
   "cell_type": "code",
   "execution_count": 9,
   "id": "27ee27db",
   "metadata": {},
   "outputs": [
    {
     "data": {
      "image/png": "[encoded data removed]",
      "text/plain": [
       "<Figure size 1200x500 with 1 Axes>"
      ]
     },
     "metadata": {},
     "output_type": "display_data"
    }
   ],
   "source": [
    "\n",
    "plt.figure(figsize=(12, 5))\n",
    "plt.plot(data.index, data['price'], label='Adjusted Close')\n",
    "plt.title(f\"{ticker} Adjusted Closing Price\")\n",
    "plt.xlabel(\"Date\")\n",
    "plt.ylabel(\"Price (USD)\")\n",
    "plt.legend()\n",
    "plt.grid(True)\n",
    "plt.show()\n"
   ]
  },
  {
   "cell_type": "markdown",
   "id": "270cd9e4",
   "metadata": {},
   "source": [
    "### 2.2 Normalization\n",
    "\n",
    "We normalize the data to the [0, 1] range using Min-Max scaling. This improves model convergence, especially for neural networks and hybrid quantum models.\n"
   ]
  },
  {
   "cell_type": "code",
   "execution_count": 10,
   "id": "b7227dc7",
   "metadata": {},
   "outputs": [],
   "source": [
    "scaler = MinMaxScaler()\n",
    "data['normalized'] = scaler.fit_transform(data[['price']])"
   ]
  },
  {
   "cell_type": "markdown",
   "id": "fcda89c3",
   "metadata": {},
   "source": [
    "### 2.3 Windowing the Data\n",
    "\n",
    "To perform time series forecasting, we convert the normalized series into input/output sequences using a sliding window approach.\n",
    "\n",
    "For example, with a window size of 10:\n",
    "- Input: `t0` to `t9`\n",
    "- Output: `t10`\n",
    "\n",
    "We define a utility function to generate these sequences.\n"
   ]
  },
  {
   "cell_type": "code",
   "execution_count": 11,
   "id": "e683ef1a",
   "metadata": {},
   "outputs": [],
   "source": [
    "\n",
    "def create_sequences(series, window_size):\n",
    "    X, y = [], []\n",
    "    for i in range(len(series) - window_size):\n",
    "        X.append(series[i:i + window_size])\n",
    "        y.append(series[i + window_size])\n",
    "    return np.array(X), np.array(y)\n",
    "\n",
    "# Use a window size (e.g., 20)\n",
    "WINDOW_SIZE = 20\n",
    "series = data['normalized'].values\n",
    "X, y = create_sequences(series, WINDOW_SIZE)\n"
   ]
  },
  {
   "cell_type": "markdown",
   "id": "4140dfa2",
   "metadata": {},
   "source": [
    "### 2.4 Train-Test Split\n",
    "\n",
    "We split the data into training and testing sets.\n",
    "For example, we may use the last 20% of the sequences for testing.\n"
   ]
  },
  {
   "cell_type": "code",
   "execution_count": 12,
   "id": "032b7509",
   "metadata": {},
   "outputs": [
    {
     "name": "stdout",
     "output_type": "stream",
     "text": [
      "Training sequences: (1996, 20)\n",
      "Test sequences: (499, 20)\n"
     ]
    }
   ],
   "source": [
    "split_index = int(len(X) * 0.8)\n",
    "X_train, X_test = X[:split_index], X[split_index:]\n",
    "y_train, y_test = y[:split_index], y[split_index:]\n",
    "\n",
    "print(f\"Training sequences: {X_train.shape}\")\n",
    "print(f\"Test sequences: {X_test.shape}\")\n"
   ]
  },
  {
   "cell_type": "markdown",
   "id": "51d8a136",
   "metadata": {},
   "source": [
    "## 📚 References for Preprocessing Methodology\n",
    "\n",
    "The preprocessing steps used in this notebook are based on widely adopted practices in time series forecasting and deep learning for sequential data. The following references and resources were used to inform the methodology:\n",
    "\n",
    "1. **MinMax Normalization**\n",
    "   - Brownlee, J. (2017). *How to Normalize and Standardize Time Series Data in Python*. Machine Learning Mastery.  \n",
    "     [https://machinelearningmastery.com/normalize-standardize-time-series-data-python/](https://machinelearningmastery.com/normalize-standardize-time-series-data-python/)\n",
    "\n",
    "2. **Sliding Window for Supervised Learning**\n",
    "   - Brownlee, J. (2018). *How to Prepare Time Series Data for Machine Learning*. Machine Learning Mastery.  \n",
    "     [https://machinelearningmastery.com/convert-time-series-supervised-learning-problem-python/](https://machinelearningmastery.com/convert-time-series-supervised-learning-problem-python/)\n",
    "\n",
    "3. **Train-Test Split Strategy**\n",
    "   - Hyndman, R. J., & Athanasopoulos, G. (2018). *Forecasting: Principles and Practice (2nd ed.)*. Chapter 2.7 – Time series cross-validation.  \n",
    "     [https://otexts.com/fpp2/](https://otexts.com/fpp2/)\n",
    "\n",
    "4. **Stock Price Datasets**\n",
    "   - Yahoo Finance via `yfinance` Python library  \n",
    "     [https://pypi.org/project/yfinance/](https://pypi.org/project/yfinance/)\n",
    "\n",
    "5. **General Time Series Forecasting Practices**\n",
    "   - Chollet, F. (2021). *Deep Learning with Python* (2nd ed.). Manning Publications. Chapter on time series prediction with LSTMs.\n",
    "\n",
    "---\n",
    "\n",
    "These references cover normalization techniques, sequence preparation, and how to structure time series problems for deep learning models.\n"
   ]
  }
 ],
 "metadata": {
  "kernelspec": {
   "display_name": "Python 3",
   "language": "python",
   "name": "python3"
  },
  "language_info": {
   "codemirror_mode": {
    "name": "ipython",
    "version": 3
   },
   "file_extension": ".py",
   "mimetype": "text/x-python",
   "name": "python",
   "nbconvert_exporter": "python",
   "pygments_lexer": "ipython3",
   "version": "3.12.3"
  }
 },
 "nbformat": 4,
 "nbformat_minor": 5
}
